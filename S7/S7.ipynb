{
  "nbformat": 4,
  "nbformat_minor": 0,
  "metadata": {
    "kernelspec": {
      "name": "python3",
      "display_name": "Python 3"
    },
    "language_info": {
      "codemirror_mode": {
        "name": "ipython",
        "version": 3
      },
      "file_extension": ".py",
      "mimetype": "text/x-python",
      "name": "python",
      "nbconvert_exporter": "python",
      "pygments_lexer": "ipython3",
      "version": "3.6.6"
    },
    "colab": {
      "name": "S7.ipynb",
      "provenance": [],
      "collapsed_sections": [],
      "include_colab_link": true
    },
    "accelerator": "GPU"
  },
  "cells": [
    {
      "cell_type": "markdown",
      "metadata": {
        "id": "view-in-github",
        "colab_type": "text"
      },
      "source": [
        "<a href=\"https://colab.research.google.com/github/ckgpeace/EVA4/blob/master/S7/S7.ipynb\" target=\"_parent\"><img src=\"https://colab.research.google.com/assets/colab-badge.svg\" alt=\"Open In Colab\"/></a>"
      ]
    },
    {
      "cell_type": "code",
      "metadata": {
        "id": "QVbdg0z4poCc",
        "colab_type": "code",
        "colab": {}
      },
      "source": [
        "%matplotlib inline\n",
        "\n",
        "import torch\n",
        "import torch.nn as nn\n",
        "import torch.nn.functional as F\n",
        "import torch.optim as optim\n",
        "from torchvision import datasets, transforms, utils\n",
        "import matplotlib.pyplot as plt\n",
        "from pdb import set_trace as bp\n",
        "import pandas as pd\n",
        "\n",
        "import torch\n",
        "import torchvision\n",
        "import torchvision.transforms as transforms\n",
        "from tqdm import tqdm"
      ],
      "execution_count": 0,
      "outputs": []
    },
    {
      "cell_type": "markdown",
      "metadata": {
        "id": "fPogbueepoCh",
        "colab_type": "text"
      },
      "source": [
        "\n",
        "Training a Classifier\n",
        "=====================\n",
        "\n",
        "This is it. You have seen how to define neural networks, compute loss and make\n",
        "updates to the weights of the network.\n",
        "\n",
        "Now you might be thinking,\n",
        "\n",
        "What about data?\n",
        "----------------\n",
        "\n",
        "Generally, when you have to deal with image, text, audio or video data,\n",
        "you can use standard python packages that load data into a numpy array.\n",
        "Then you can convert this array into a ``torch.*Tensor``.\n",
        "\n",
        "-  For images, packages such as Pillow, OpenCV are useful\n",
        "-  For audio, packages such as scipy and librosa\n",
        "-  For text, either raw Python or Cython based loading, or NLTK and\n",
        "   SpaCy are useful\n",
        "\n",
        "Specifically for vision, we have created a package called\n",
        "``torchvision``, that has data loaders for common datasets such as\n",
        "Imagenet, CIFAR10, MNIST, etc. and data transformers for images, viz.,\n",
        "``torchvision.datasets`` and ``torch.utils.data.DataLoader``.\n",
        "\n",
        "This provides a huge convenience and avoids writing boilerplate code.\n",
        "\n",
        "For this tutorial, we will use the CIFAR10 dataset.\n",
        "It has the classes: ‘airplane’, ‘automobile’, ‘bird’, ‘cat’, ‘deer’,\n",
        "‘dog’, ‘frog’, ‘horse’, ‘ship’, ‘truck’. The images in CIFAR-10 are of\n",
        "size 3x32x32, i.e. 3-channel color images of 32x32 pixels in size.\n",
        "\n",
        ".. figure:: /_static/img/cifar10.png\n",
        "   :alt: cifar10\n",
        "\n",
        "   cifar10\n",
        "\n",
        "\n",
        "Training an image classifier\n",
        "----------------------------\n",
        "\n",
        "We will do the following steps in order:\n",
        "\n",
        "1. Load and normalizing the CIFAR10 training and test datasets using\n",
        "   ``torchvision``\n",
        "2. Define a Convolution Neural Network\n",
        "3. Define a loss function\n",
        "4. Train the network on the training data\n",
        "5. Test the network on the test data\n",
        "\n",
        "1. Loading and normalizing CIFAR10\n",
        "^^^^^^^^^^^^^^^^^^^^^^^^^^^^^^^^^^\n",
        "\n",
        "Using ``torchvision``, it’s extremely easy to load CIFAR10.\n",
        "\n"
      ]
    },
    {
      "cell_type": "markdown",
      "metadata": {
        "id": "5kjt4e2TpoCk",
        "colab_type": "text"
      },
      "source": [
        "The output of torchvision datasets are PILImage images of range [0, 1].\n",
        "We transform them to Tensors of normalized range [-1, 1].\n",
        "\n"
      ]
    },
    {
      "cell_type": "code",
      "metadata": {
        "id": "D8Tjigo2poCl",
        "colab_type": "code",
        "outputId": "53bee023-4842-4c78-91e5-c8cd7b5e37b9",
        "colab": {
          "base_uri": "https://localhost:8080/",
          "height": 52
        }
      },
      "source": [
        "transform = transforms.Compose(\n",
        "    [transforms.ToTensor(),\n",
        "     transforms.Normalize((0.5, 0.5, 0.5), (0.5, 0.5, 0.5))])\n",
        "\n",
        "trainset = torchvision.datasets.CIFAR10(root='./data', train=True,\n",
        "                                        download=True, transform=transform)\n",
        "\n",
        "trainloader = torch.utils.data.DataLoader(trainset, batch_size=32,\n",
        "                                          shuffle=True, num_workers=8)\n",
        "\n",
        "testset = torchvision.datasets.CIFAR10(root='./data', train=False,\n",
        "                                       download=True, transform=transform)\n",
        "testloader = torch.utils.data.DataLoader(testset, batch_size=32,\n",
        "                                         shuffle=False, num_workers=8)\n",
        "\n",
        "classes = ('plane', 'car', 'bird', 'cat',\n",
        "           'deer', 'dog', 'frog', 'horse', 'ship', 'truck')"
      ],
      "execution_count": 2,
      "outputs": [
        {
          "output_type": "stream",
          "text": [
            "Files already downloaded and verified\n",
            "Files already downloaded and verified\n"
          ],
          "name": "stdout"
        }
      ]
    },
    {
      "cell_type": "markdown",
      "metadata": {
        "id": "_cj433rtpoCn",
        "colab_type": "text"
      },
      "source": [
        "Let us show some of the training images, for fun.\n",
        "\n"
      ]
    },
    {
      "cell_type": "code",
      "metadata": {
        "id": "daA7bADhpoCo",
        "colab_type": "code",
        "outputId": "a97f0530-4da3-40f4-98c7-499734570f1c",
        "colab": {
          "base_uri": "https://localhost:8080/",
          "height": 257
        }
      },
      "source": [
        "import matplotlib.pyplot as plt\n",
        "import numpy as np\n",
        "\n",
        "# functions to show an image\n",
        "\n",
        "\n",
        "def imshow(img):\n",
        "    img = img / 2 + 0.5     # unnormalize\n",
        "    npimg = img.numpy()\n",
        "    plt.imshow(np.transpose(npimg, (1, 2, 0)))\n",
        "\n",
        "\n",
        "# get some random training images\n",
        "dataiter = iter(trainloader)\n",
        "images, labels = dataiter.next()\n",
        "\n",
        "# show images\n",
        "imshow(torchvision.utils.make_grid(images))\n",
        "# print labels\n",
        "# print(' '.join('%5s' % classes[labels[j]] for j in range(32)))\n",
        "print(' '.join('%0.1f %5s %s' % (j,classes[labels[j]], images[j].shape) for j in range(32)))\n"
      ],
      "execution_count": 3,
      "outputs": [
        {
          "output_type": "stream",
          "text": [
            "0.0 truck torch.Size([3, 32, 32]) 1.0  bird torch.Size([3, 32, 32]) 2.0   dog torch.Size([3, 32, 32]) 3.0  deer torch.Size([3, 32, 32]) 4.0 plane torch.Size([3, 32, 32]) 5.0   car torch.Size([3, 32, 32]) 6.0 horse torch.Size([3, 32, 32]) 7.0  frog torch.Size([3, 32, 32]) 8.0  frog torch.Size([3, 32, 32]) 9.0   cat torch.Size([3, 32, 32]) 10.0  deer torch.Size([3, 32, 32]) 11.0  bird torch.Size([3, 32, 32]) 12.0  bird torch.Size([3, 32, 32]) 13.0  deer torch.Size([3, 32, 32]) 14.0 truck torch.Size([3, 32, 32]) 15.0  bird torch.Size([3, 32, 32]) 16.0  ship torch.Size([3, 32, 32]) 17.0  ship torch.Size([3, 32, 32]) 18.0  bird torch.Size([3, 32, 32]) 19.0 plane torch.Size([3, 32, 32]) 20.0   cat torch.Size([3, 32, 32]) 21.0   car torch.Size([3, 32, 32]) 22.0   car torch.Size([3, 32, 32]) 23.0   car torch.Size([3, 32, 32]) 24.0   dog torch.Size([3, 32, 32]) 25.0  bird torch.Size([3, 32, 32]) 26.0 plane torch.Size([3, 32, 32]) 27.0 truck torch.Size([3, 32, 32]) 28.0 plane torch.Size([3, 32, 32]) 29.0   car torch.Size([3, 32, 32]) 30.0 plane torch.Size([3, 32, 32]) 31.0 horse torch.Size([3, 32, 32])\n"
          ],
          "name": "stdout"
        },
        {
          "output_type": "display_data",
          "data": {
            "image/png": "[encoded data removed]",
            "text/plain": [
              "<Figure size 432x288 with 1 Axes>"
            ]
          },
          "metadata": {
            "tags": []
          }
        }
      ]
    },
    {
      "cell_type": "markdown",
      "metadata": {
        "id": "28OpHA_LpoCq",
        "colab_type": "text"
      },
      "source": [
        "## 2. Define a Convolution Neural Network\n",
        "\n",
        "\n",
        "Copy the neural network from the Neural Networks section before and modify it to\n",
        "take 3-channel images (instead of 1-channel images as it was defined).\n",
        "\n"
      ]
    },
    {
      "cell_type": "code",
      "metadata": {
        "id": "0jjLwLLQpoCr",
        "colab_type": "code",
        "colab": {}
      },
      "source": [
        "#model4:\n",
        "\n",
        "dropout_value = 0.1\n",
        "num_classes = 10\n",
        "class Net(nn.Module):\n",
        "    def __init__(self):\n",
        "        super(Net, self).__init__()\n",
        "       \n",
        "        # INPUT BLOCK\n",
        "        self.convblock1 = nn.Sequential(\n",
        "            nn.Conv2d(in_channels=3, out_channels=8, kernel_size=(3, 3), padding=1, padding_mode = 'replicate', bias=False),\n",
        "            nn.ReLU(),\n",
        "            nn.BatchNorm2d(8),\n",
        "            nn.Dropout(dropout_value)\n",
        "        ) \n",
        "        # input_size = 32 output_size = 32 receptive_field = 3\n",
        "        # INPUT BLOCK ENDS  =============\n",
        "\n",
        "        # CONVOLUTION BLOCK 1\n",
        "        self.convblock2 = nn.Sequential(\n",
        "            nn.Conv2d(in_channels=8, out_channels=16, kernel_size=(3, 3), padding=1, padding_mode = 'replicate', bias=False),\n",
        "            nn.ReLU(),\n",
        "            nn.BatchNorm2d(16),\n",
        "            nn.Dropout(dropout_value)\n",
        "        ) \n",
        "        # input_size = 32 output_size = 32 receptive_field = 5\n",
        "        \n",
        "        self.convblock3 = nn.Sequential(\n",
        "            nn.Conv2d(in_channels=16, out_channels=32, kernel_size=(3, 3), padding=1,  padding_mode = 'replicate', bias=False),\n",
        "            nn.ReLU(),\n",
        "            nn.BatchNorm2d(32),\n",
        "            nn.Dropout(dropout_value)\n",
        "        )\n",
        "        # input_size = 32 output_size = 32 receptive_field = 7\n",
        "\n",
        "        self.convblock4 = nn.Sequential(\n",
        "            nn.Conv2d(in_channels=32, out_channels=64, kernel_size=(3, 3), padding=1,  padding_mode = 'replicate', bias=False),\n",
        "            nn.ReLU(),\n",
        "            nn.BatchNorm2d(64),\n",
        "            nn.Dropout(dropout_value)\n",
        "        ) \n",
        "        # input_size = 32 output_size = 32 receptive_field = 9\n",
        "        # CONVOLUTION BLOCK 1 ENDS =============\n",
        "\n",
        "        # TRANSITION BLOCK 1\n",
        "        self.pool1 = nn.MaxPool2d(2, 2) \n",
        "        # input_size = 32 output_size = 16 receptive_field = 18\n",
        "\n",
        "        self.convblock5 = nn.Sequential(\n",
        "            nn.Conv2d(in_channels=64, out_channels=8, kernel_size=(1, 1), padding=0, bias=False),\n",
        "            nn.ReLU(),\n",
        "            nn.BatchNorm2d(8),\n",
        "            nn.Dropout(dropout_value)\n",
        "        ) \n",
        "        # input_size = 16 output_size = 16 receptive_field = 18\n",
        "        # TRANSITION BLOCK 1 ENDS =============\n",
        "\n",
        "        # CONVOLUTION BLOCK 2 - Depthwise Separable Convolution\n",
        "        self.depthwise1 = nn.Sequential(\n",
        "            nn.Conv2d(in_channels=8, out_channels=16, kernel_size=(3, 3), padding=1,  padding_mode = 'replicate', bias=False, groups=8),\n",
        "            nn.ReLU(),\n",
        "            nn.BatchNorm2d(16),\n",
        "            nn.Dropout(dropout_value)\n",
        "        ) \n",
        "        # input_size = 16 output_size = 16 receptive_field = 20\n",
        "        self.depthwise2 = nn.Sequential(\n",
        "            nn.Conv2d(in_channels=16, out_channels=32, kernel_size=(3, 3), padding=1,  padding_mode = 'replicate', bias=False, groups=16),\n",
        "            nn.ReLU(),\n",
        "            nn.BatchNorm2d(32),\n",
        "            nn.Dropout(dropout_value)\n",
        "        ) \n",
        "        # input_size = 16 output_size = 16 receptive_field = 22\n",
        "\n",
        "        self.depthwise3 = nn.Sequential(\n",
        "            nn.Conv2d(in_channels=32, out_channels=64, kernel_size=(3, 3), padding=1,  padding_mode = 'replicate', bias=False, groups=32),\n",
        "            nn.ReLU(),\n",
        "            nn.BatchNorm2d(64),\n",
        "            nn.Dropout(dropout_value)\n",
        "        ) \n",
        "        # input_size = 16 output_size = 16 receptive_field = 24\n",
        "        # CONVOLUTION BLOCK 2 ENDS =============\n",
        "\n",
        "        # TRANSITION BLOCK 2\n",
        "        self.pool2 = nn.MaxPool2d(2, 2) \n",
        "        # input_size = 16 output_size = 8 receptive_field = 48\n",
        "        self.convblock6 = nn.Sequential(\n",
        "            nn.Conv2d(in_channels=64, out_channels=8, kernel_size=(1, 1), padding=0, bias=False),\n",
        "            nn.ReLU(),\n",
        "            nn.BatchNorm2d(8),\n",
        "            nn.Dropout(dropout_value)\n",
        "        ) \n",
        "        # input_size = 8 output_size = 8 receptive_field = 48\n",
        "        # TRANSITION BLOCK 1 ENDS =============\n",
        "\n",
        "        # CONVOLUTION BLOCK 3 - Dilated Convolution\n",
        "        self.dilated1 = nn.Sequential(\n",
        "            nn.Conv2d(in_channels=8, out_channels=16, kernel_size=(3, 3), padding=0 , bias=False, dilation=1),\n",
        "            nn.ReLU(),\n",
        "            nn.BatchNorm2d(16),\n",
        "            nn.Dropout(dropout_value)\n",
        "        ) \n",
        "        # input_size = 8 output_size = 6 receptive_field = ??\n",
        "        self.dilated2 = nn.Sequential(\n",
        "            nn.Conv2d(in_channels=16, out_channels=32, kernel_size=(3, 3), padding=0, bias=False, dilation=1),\n",
        "            nn.ReLU(),\n",
        "            nn.BatchNorm2d(32),\n",
        "            nn.Dropout(dropout_value)\n",
        "        ) \n",
        "        # input_size = 6 output_size = 4 receptive_field = ??\n",
        "\n",
        "        self.dilated3 = nn.Sequential(\n",
        "            nn.Conv2d(in_channels=32, out_channels=64, kernel_size=(3, 3), padding=0, bias=False, dilation=1),\n",
        "            nn.ReLU(),\n",
        "            nn.BatchNorm2d(64),\n",
        "            nn.Dropout(dropout_value)\n",
        "        ) \n",
        "        # input_size = 4 output_size = 2 receptive_field = ??\n",
        "        # CONVOLUTION BLOCK 3 ENDS =============\n",
        "\n",
        "        # OUTPUT BLOCK\n",
        "        self.GAP = nn.AdaptiveAvgPool2d(2)\n",
        "        self.FC = nn.Linear(64*2*2, num_classes)\n",
        "        \n",
        "\n",
        "    def forward(self, x):\n",
        "        x = self.convblock1(x)\n",
        "        x = self.convblock2(x)\n",
        "        x = self.convblock3(x)\n",
        "        x = self.convblock4(x)\n",
        "        x = self.pool1(x)\n",
        "        x = self.convblock5(x)\n",
        "        x = self.depthwise1(x)\n",
        "        x = self.depthwise2(x)\n",
        "        x = self.depthwise3(x)\n",
        "        x = self.pool2(x)\n",
        "        x = self.convblock6(x)\n",
        "        x = self.dilated1(x)\n",
        "        x = self.dilated2(x)\n",
        "        x = self.dilated3(x)\n",
        "        # print(x.shape)\n",
        "        x = self.GAP(x)\n",
        "        # print(x.shape)\n",
        "        x = x.view(x.size(0), -1)\n",
        "        # print(x.shape)\n",
        "        x = self.FC(x)\n",
        "        return F.log_softmax(x, dim=-1)"
      ],
      "execution_count": 0,
      "outputs": []
    },
    {
      "cell_type": "code",
      "metadata": {
        "id": "9dFFoJpi4Q5J",
        "colab_type": "code",
        "outputId": "8ad2ba8f-eecf-49b0-8571-3fe535944afb",
        "colab": {
          "base_uri": "https://localhost:8080/",
          "height": 1000
        }
      },
      "source": [
        "# !pip install torchsummary\n",
        "from torchsummary import summary\n",
        "\n",
        "use_cuda = torch.cuda.is_available()\n",
        "device = torch.device(\"cuda\" if use_cuda else \"cpu\")\n",
        "print(device)\n",
        "model = Net().to(device)\n",
        "summary(model, input_size=(3,32,32))"
      ],
      "execution_count": 5,
      "outputs": [
        {
          "output_type": "stream",
          "text": [
            "cuda\n",
            "----------------------------------------------------------------\n",
            "        Layer (type)               Output Shape         Param #\n",
            "================================================================\n",
            "            Conv2d-1            [-1, 8, 32, 32]             216\n",
            "              ReLU-2            [-1, 8, 32, 32]               0\n",
            "       BatchNorm2d-3            [-1, 8, 32, 32]              16\n",
            "           Dropout-4            [-1, 8, 32, 32]               0\n",
            "            Conv2d-5           [-1, 16, 32, 32]           1,152\n",
            "              ReLU-6           [-1, 16, 32, 32]               0\n",
            "       BatchNorm2d-7           [-1, 16, 32, 32]              32\n",
            "           Dropout-8           [-1, 16, 32, 32]               0\n",
            "            Conv2d-9           [-1, 32, 32, 32]           4,608\n",
            "             ReLU-10           [-1, 32, 32, 32]               0\n",
            "      BatchNorm2d-11           [-1, 32, 32, 32]              64\n",
            "          Dropout-12           [-1, 32, 32, 32]               0\n",
            "           Conv2d-13           [-1, 64, 32, 32]          18,432\n",
            "             ReLU-14           [-1, 64, 32, 32]               0\n",
            "      BatchNorm2d-15           [-1, 64, 32, 32]             128\n",
            "          Dropout-16           [-1, 64, 32, 32]               0\n",
            "        MaxPool2d-17           [-1, 64, 16, 16]               0\n",
            "           Conv2d-18            [-1, 8, 16, 16]             512\n",
            "             ReLU-19            [-1, 8, 16, 16]               0\n",
            "      BatchNorm2d-20            [-1, 8, 16, 16]              16\n",
            "          Dropout-21            [-1, 8, 16, 16]               0\n",
            "           Conv2d-22           [-1, 16, 16, 16]             144\n",
            "             ReLU-23           [-1, 16, 16, 16]               0\n",
            "      BatchNorm2d-24           [-1, 16, 16, 16]              32\n",
            "          Dropout-25           [-1, 16, 16, 16]               0\n",
            "           Conv2d-26           [-1, 32, 16, 16]             288\n",
            "             ReLU-27           [-1, 32, 16, 16]               0\n",
            "      BatchNorm2d-28           [-1, 32, 16, 16]              64\n",
            "          Dropout-29           [-1, 32, 16, 16]               0\n",
            "           Conv2d-30           [-1, 64, 16, 16]             576\n",
            "             ReLU-31           [-1, 64, 16, 16]               0\n",
            "      BatchNorm2d-32           [-1, 64, 16, 16]             128\n",
            "          Dropout-33           [-1, 64, 16, 16]               0\n",
            "        MaxPool2d-34             [-1, 64, 8, 8]               0\n",
            "           Conv2d-35              [-1, 8, 8, 8]             512\n",
            "             ReLU-36              [-1, 8, 8, 8]               0\n",
            "      BatchNorm2d-37              [-1, 8, 8, 8]              16\n",
            "          Dropout-38              [-1, 8, 8, 8]               0\n",
            "           Conv2d-39             [-1, 16, 6, 6]           1,152\n",
            "             ReLU-40             [-1, 16, 6, 6]               0\n",
            "      BatchNorm2d-41             [-1, 16, 6, 6]              32\n",
            "          Dropout-42             [-1, 16, 6, 6]               0\n",
            "           Conv2d-43             [-1, 32, 4, 4]           4,608\n",
            "             ReLU-44             [-1, 32, 4, 4]               0\n",
            "      BatchNorm2d-45             [-1, 32, 4, 4]              64\n",
            "          Dropout-46             [-1, 32, 4, 4]               0\n",
            "           Conv2d-47             [-1, 64, 2, 2]          18,432\n",
            "             ReLU-48             [-1, 64, 2, 2]               0\n",
            "      BatchNorm2d-49             [-1, 64, 2, 2]             128\n",
            "          Dropout-50             [-1, 64, 2, 2]               0\n",
            "AdaptiveAvgPool2d-51             [-1, 64, 2, 2]               0\n",
            "           Linear-52                   [-1, 10]           2,570\n",
            "================================================================\n",
            "Total params: 53,922\n",
            "Trainable params: 53,922\n",
            "Non-trainable params: 0\n",
            "----------------------------------------------------------------\n",
            "Input size (MB): 0.01\n",
            "Forward/backward pass size (MB): 4.90\n",
            "Params size (MB): 0.21\n",
            "Estimated Total Size (MB): 5.12\n",
            "----------------------------------------------------------------\n"
          ],
          "name": "stdout"
        }
      ]
    },
    {
      "cell_type": "markdown",
      "metadata": {
        "id": "Wdw2NNCUpoCu",
        "colab_type": "text"
      },
      "source": [
        "### 3. Define a Loss function and optimizer\n",
        "Let's use a Classification Cross-Entropy loss and SGD with momentum.\n",
        "\n"
      ]
    },
    {
      "cell_type": "code",
      "metadata": {
        "id": "M4xBbDROpoCv",
        "colab_type": "code",
        "colab": {}
      },
      "source": [
        "import torch.optim as optim\n",
        "\n",
        "criterion = nn.CrossEntropyLoss()\n",
        "optimizer = optim.SGD(model.parameters(), lr=0.1, momentum=0.9)"
      ],
      "execution_count": 0,
      "outputs": []
    },
    {
      "cell_type": "markdown",
      "metadata": {
        "id": "O-odOrhdpoC2",
        "colab_type": "text"
      },
      "source": [
        "## 4. Train the network\n",
        "\n",
        "This is when things start to get interesting.\n",
        "We simply have to loop over our data iterator, and feed the inputs to the\n",
        "network and optimize.\n",
        "\n",
        "\n"
      ]
    },
    {
      "cell_type": "code",
      "metadata": {
        "id": "kkuRfo1IpoC3",
        "colab_type": "code",
        "outputId": "af452e3a-cd56-4015-adb6-5036731844ed",
        "colab": {
          "base_uri": "https://localhost:8080/",
          "height": 283
        }
      },
      "source": [
        "from tqdm import tqdm\n",
        "\n",
        "\n",
        "for epoch in range(51):  # loop over the dataset multiple times\n",
        "    print(\"\\n Epoch: \" + str(epoch))\n",
        "    pbar = tqdm(trainloader)\n",
        "    running_loss = 0.0\n",
        "    correct = 0\n",
        "    processed = 0\n",
        "    for i, (data, target) in enumerate(pbar):\n",
        "        # get the inputs\n",
        "        inputs, labels = data.to(device), target.to(device)\n",
        "\n",
        "        # zero the parameter gradients\n",
        "        optimizer.zero_grad()\n",
        "\n",
        "        # forward + backward + optimize\n",
        "        outputs = model(inputs)\n",
        "        loss = criterion(outputs, labels)\n",
        "        loss.backward()\n",
        "        optimizer.step()\n",
        "\n",
        "        # print statistics\n",
        "        running_loss += loss.item()\n",
        "        if i % 2000 == 1999:    # print every 2000 mini-batches\n",
        "            print('[%d, %5d] loss: %.3f' %\n",
        "                  (epoch + 1, i + 1, running_loss / 2000))\n",
        "            running_loss = 0.0\n",
        "        # Predict\n",
        "        y_pred = model(inputs)\n",
        "        # Update pbar-tqdm    \n",
        "        pred = y_pred.argmax(dim=1, keepdim=True)  # get the index of the max log-probability\n",
        "        correct += pred.eq(labels.view_as(pred)).sum().item()\n",
        "        processed += len(data)      \n",
        "        pbar.set_description(desc= f'Loss={loss.item()} Batch_id={i} Accuracy={100*correct/processed:0.2f}')\n",
        "\n",
        "    misclassified_images_list = []\n",
        "    model.eval()\n",
        "    test_loss = 0\n",
        "    correct = 0\n",
        "    with torch.no_grad():\n",
        "        for data, target in testloader:\n",
        "            data, target = data.to(device), target.to(device)\n",
        "            output = model(data)\n",
        "            test_loss += criterion(output, target).item()  # sum up batch loss\n",
        "            pred = output.argmax(dim=1, keepdim=True)  # get the index of the max log-probability\n",
        "            pred_value = torch.max(output, dim=1).values\n",
        "\n",
        "            \n",
        "            match_tensor = pred.eq(target.view_as(pred))\n",
        "            misclassified_images_in_batch = torch.where(match_tensor == False)\n",
        "            for eachimage in misclassified_images_in_batch[0]:\n",
        "               #bp()\n",
        "               image_predlist = [data[eachimage], pred[eachimage].item(), pred_value[eachimage].item(), target[eachimage].item()]\n",
        "               misclassified_images_list.append(image_predlist)\n",
        "            correct += match_tensor.sum().item()\n",
        "\n",
        "    test_loss /= len(testloader.dataset)\n",
        "    \n",
        "\n",
        "    print('\\nTest set: Average loss: {:.4f}, Accuracy: {}/{} ({:.2f}%)\\n'.format(\n",
        "        test_loss, correct, len(testloader.dataset),\n",
        "        100. * correct / len(testloader.dataset)))\n",
        "    \n",
        "    test_acc = 100. * correct / len(testloader.dataset)\n",
        "\n",
        "print('Finished Training')"
      ],
      "execution_count": 0,
      "outputs": [
        {
          "output_type": "stream",
          "text": [
            "\r  0%|          | 0/1563 [00:00<?, ?it/s]"
          ],
          "name": "stderr"
        },
        {
          "output_type": "stream",
          "text": [
            "\n",
            " Epoch: 0\n"
          ],
          "name": "stdout"
        },
        {
          "output_type": "stream",
          "text": [
            "Loss=1.3238317966461182 Batch_id=1562 Accuracy=34.48: 100%|██████████| 1563/1563 [00:42<00:00, 36.52it/s]\n",
            "  0%|          | 0/1563 [00:00<?, ?it/s]"
          ],
          "name": "stderr"
        },
        {
          "output_type": "stream",
          "text": [
            "\n",
            "Test set: Average loss: 0.0561, Accuracy: 3330/10000 (33.30%)\n",
            "\n",
            "\n",
            " Epoch: 1\n"
          ],
          "name": "stdout"
        },
        {
          "output_type": "stream",
          "text": [
            "Loss=1.484254002571106 Batch_id=1562 Accuracy=46.87: 100%|██████████| 1563/1563 [00:37<00:00, 41.28it/s]\n",
            "  0%|          | 0/1563 [00:00<?, ?it/s]"
          ],
          "name": "stderr"
        },
        {
          "output_type": "stream",
          "text": [
            "\n",
            "Test set: Average loss: 0.0491, Accuracy: 4188/10000 (41.88%)\n",
            "\n",
            "\n",
            " Epoch: 2\n"
          ],
          "name": "stdout"
        },
        {
          "output_type": "stream",
          "text": [
            "Loss=1.686934232711792 Batch_id=902 Accuracy=51.91:  58%|█████▊    | 902/1563 [00:22<00:15, 41.51it/s] "
          ],
          "name": "stderr"
        }
      ]
    },
    {
      "cell_type": "markdown",
      "metadata": {
        "id": "YLrvL_fHpoC5",
        "colab_type": "text"
      },
      "source": [
        "## 5. Test the network on the test data\n",
        "\n",
        "We have trained the network for 2 passes over the training dataset.\n",
        "But we need to check if the network has learnt anything at all.\n",
        "\n",
        "We will check this by predicting the class label that the neural network\n",
        "outputs, and checking it against the ground-truth. If the prediction is\n",
        "correct, we add the sample to the list of correct predictions.\n",
        "\n",
        "### Okay, first step. Let us display an image from the test set to get familiar.\n",
        "\n"
      ]
    },
    {
      "cell_type": "code",
      "metadata": {
        "id": "nizbsvw9poC6",
        "colab_type": "code",
        "colab": {}
      },
      "source": [
        "# dataiter = iter(testloader)\n",
        "# images, labels = dataiter.next()\n",
        "\n",
        "# # print images\n",
        "# imshow(torchvision.utils.make_grid(images))\n",
        "# print('GroundTruth: ', ' '.join('%0.1f %5s' % (j,classes[labels[j]]) for j in range(32)))"
      ],
      "execution_count": 0,
      "outputs": []
    },
    {
      "cell_type": "markdown",
      "metadata": {
        "id": "DAx4QPHVpoC8",
        "colab_type": "text"
      },
      "source": [
        "Okay, now let us see what the neural network thinks these examples above are:\n",
        "\n"
      ]
    },
    {
      "cell_type": "code",
      "metadata": {
        "id": "HVLjlssWpoC9",
        "colab_type": "code",
        "colab": {}
      },
      "source": [
        "# net = Net()\n",
        "# outputs = net(images)"
      ],
      "execution_count": 0,
      "outputs": []
    },
    {
      "cell_type": "markdown",
      "metadata": {
        "id": "u8OTHZEApoC_",
        "colab_type": "text"
      },
      "source": [
        "The outputs are energies for the 10 classes.\n",
        "Higher the energy for a class, the more the network\n",
        "thinks that the image is of the particular class.\n",
        "So, let's get the index of the highest energy:\n",
        "\n"
      ]
    },
    {
      "cell_type": "code",
      "metadata": {
        "id": "ABRIDW3lpoDA",
        "colab_type": "code",
        "colab": {}
      },
      "source": [
        "# _, predicted = torch.max(outputs, 1)\n",
        "\n",
        "# print('Predicted: ', ' '.join('%5s' % classes[predicted[j]]\n",
        "#                               for j in range(4)))"
      ],
      "execution_count": 0,
      "outputs": []
    },
    {
      "cell_type": "markdown",
      "metadata": {
        "id": "2TV0TXL1poDC",
        "colab_type": "text"
      },
      "source": [
        "The results seem pretty good.\n",
        "\n",
        "Let us look at how the network performs on the whole dataset.\n",
        "\n"
      ]
    },
    {
      "cell_type": "code",
      "metadata": {
        "id": "SZ4-5CESpoDD",
        "colab_type": "code",
        "colab": {}
      },
      "source": [
        "# correct = 0\n",
        "# total = 0\n",
        "# with torch.no_grad():\n",
        "#     for data in testloader:\n",
        "#         images, labels = data\n",
        "#         outputs = model(images)\n",
        "#         _, predicted = torch.max(outputs.data, 1)\n",
        "#         total += labels.size(0)\n",
        "#         correct += (predicted == labels).sum().item()\n",
        "\n",
        "# print('Accuracy of the network on the 10000 test images: %d %%' % (\n",
        "#     100 * correct / total))"
      ],
      "execution_count": 0,
      "outputs": []
    },
    {
      "cell_type": "markdown",
      "metadata": {
        "id": "eDdwPBl8poDF",
        "colab_type": "text"
      },
      "source": [
        "That looks waaay better than chance, which is 10% accuracy (randomly picking\n",
        "a class out of 10 classes).\n",
        "Seems like the network learnt something.\n",
        "\n",
        "Hmmm, what are the classes that performed well, and the classes that did\n",
        "not perform well:\n",
        "\n"
      ]
    },
    {
      "cell_type": "code",
      "metadata": {
        "id": "pDNFuDEDpoDG",
        "colab_type": "code",
        "colab": {}
      },
      "source": [
        "# class_correct = list(0. for i in range(10))\n",
        "# class_total = list(0. for i in range(10))\n",
        "# with torch.no_grad():\n",
        "#     for data in testloader:\n",
        "#         images, labels = data\n",
        "#         outputs = net(images)\n",
        "#         _, predicted = torch.max(outputs, 1)\n",
        "#         c = (predicted == labels).squeeze()\n",
        "#         for i in range(4):\n",
        "#             label = labels[i]\n",
        "#             class_correct[label] += c[i].item()\n",
        "#             class_total[label] += 1\n",
        "\n",
        "\n",
        "# for i in range(10):\n",
        "#     print('Accuracy of %5s : %2d %%' % (\n",
        "#         classes[i], 100 * class_correct[i] / class_total[i]))"
      ],
      "execution_count": 0,
      "outputs": []
    }
  ]
}